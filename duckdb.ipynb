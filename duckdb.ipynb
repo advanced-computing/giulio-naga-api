{
 "cells": [
  {
   "cell_type": "code",
   "execution_count": null,
   "metadata": {},
   "outputs": [
    {
     "name": "stdout",
     "output_type": "stream",
     "text": [
      "┌───────────────────────────────────────────┬───────────────┬───────────┬───────────────────────────────────┬─────────────┬─────────┬─────────┬──────────────────────────────┐\n",
      "│               Company Name                │ Total Interns │ Employees │              Address              │    Town     │  State  │   Zip   │            Sector            │\n",
      "│                  varchar                  │     int64     │   int64   │              varchar              │   varchar   │ varchar │ varchar │           varchar            │\n",
      "├───────────────────────────────────────────┼───────────────┼───────────┼───────────────────────────────────┼─────────────┼─────────┼─────────┼──────────────────────────────┤\n",
      "│ 1366 Technologies, Inc.                   │            10 │        55 │ 6 Preston Ct                      │ Bedford     │ MA      │ 1730    │ Solar                        │\n",
      "│ 180 South Solar                           │             1 │         4 │ 2 Merrimack Street, 3rd Floor     │ Haverhill   │ MA      │ 1830    │ Solar                        │\n",
      "│ 24M Technologies, Inc.                    │            34 │       148 │ 130 Brookline Street              │ Cambridge   │ MA      │ 2139    │ Other                        │\n",
      "│ 2Witech Solutions, LLC                    │             4 │         3 │ 100 School Street                 │ Andover     │ MA      │ 1810    │ Water Technology             │\n",
      "│ 360Chestnut, Inc.                         │            22 │         6 │ 99 Winchester St # 1              │ Brookline   │ MA      │ 2446    │ Energy Efficiency            │\n",
      "│ 621 Energy, LLC                           │            13 │         6 │ 152 Commonwealth Avenue, Suite 21 │ Concord     │ MA      │ 1742    │ Solar                        │\n",
      "│ 7AC Technologies, Inc.                    │            20 │        17 │ 100 Cummings Center, Suite 265-G  │ Beverly     │ MA      │ 1915    │ Energy Efficiency            │\n",
      "│ A Better City Initiative                  │            21 │        14 │ 14 Beacon Street Suite 402        │ Boston      │ MA      │ 2108    │ Green Building               │\n",
      "│ A9 Green/Total Green Energy Solution, LLC │            37 │        11 │ 329 Massachusetts Ave, Unit 3     │ Lexington   │ MA      │ 2420    │ Energy Efficiency            │\n",
      "│ Abode Energy Management LLC               │            26 │        30 │ 555 Virginia Rd Suite 221         │ Concord     │ MA      │ 1742    │ Green Building               │\n",
      "│      ·                                    │             · │         · │            ·                      │    ·        │ ·       │  ·      │       ·                      │\n",
      "│      ·                                    │             · │         · │            ·                      │    ·        │ ·       │  ·      │       ·                      │\n",
      "│      ·                                    │             · │         · │            ·                      │    ·        │ ·       │  ·      │       ·                      │\n",
      "│ XL Batteries                              │             1 │        10 │ 33 Locke Drive Suite 202          │ Marlborough │ MA      │ 1752    │ Long Duration Energy Storage │\n",
      "│ XL Hybrids                                │            17 │        24 │ 145 Newton St                     │ Boston      │ MA      │ 2135    │ Alternative Transportation   │\n",
      "│ Xogen USA, Inc.                           │             2 │         1 │ 44 School Street, Suite 505       │ Boston      │ MA      │ 2108    │ Water Technology             │\n",
      "│ Yeloha                                    │             6 │         3 │ 745 Atlantic Avenue, 8th Floor    │ Boston      │ MA      │ 2111    │ Solar                        │\n",
      "│ Zapotec Energy, Inc.                      │            21 │         4 │ 26 Glenwood Ave                   │ Cambridge   │ MA      │ 2139    │ Solar                        │\n",
      "│ Zephyr Energy Corporation                 │             1 │         1 │ 106 Queensbury St. Apt. D         │ Boston      │ MA      │ 2215    │ Wind                         │\n",
      "│ Zephyr Innovations, Inc.                  │             2 │         2 │ 444 Somerville Ave.               │ Somerville  │ MA      │ 2143    │ Energy Efficiency            │\n",
      "│ ZERO (Gunnison Company)                   │             2 │         1 │ 11 TROWBRIDGE ST                  │ CAMBRIDGE   │ MA      │ 2138    │ Green Building               │\n",
      "│ ZeroEnergy Design                         │            21 │         8 │ 234 Causeway Street Apt 1006      │ Boston      │ MA      │ 2114    │ Green Building               │\n",
      "│ ZwitterCo, Inc.                           │            10 │        35 │ 12 Cabot Road, Suite B            │ Woburn      │ MA      │ 1801    │ Water Technology             │\n",
      "├───────────────────────────────────────────┴───────────────┴───────────┴───────────────────────────────────┴─────────────┴─────────┴─────────┴──────────────────────────────┤\n",
      "│ 779 rows (20 shown)                                                                                                                                              8 columns │\n",
      "└────────────────────────────────────────────────────────────────────────────────────────────────────────────────────────────────────────────────────────────────────────────┘\n",
      "\n"
     ]
    }
   ],
   "source": [
    "import duckdb\n",
    "\n",
    "# Create a connection to a file called 'file.db'\n",
    "con = duckdb.connect(\"my_database.db\")\n",
    "\n",
    "# Create a table and load data from the CSV file\n",
    "csv_path = \"energy.csv\"\n",
    "\n",
    "# Automatically infer schema and create table\n",
    "con.sql(f\"CREATE TABLE energy_1 AS SELECT * FROM read_csv_auto('{csv_path}')\")\n",
    "\n",
    "# Query the table to check the loaded data\n",
    "con.sql(\"SELECT * FROM energy_1\").show()\n",
    "\n",
    "# Explicitly close the connection\n",
    "con.close()\n"
   ]
  },
  {
   "cell_type": "code",
   "execution_count": null,
   "metadata": {},
   "outputs": [],
   "source": []
  }
 ],
 "metadata": {
  "language_info": {
   "name": "python"
  }
 },
 "nbformat": 4,
 "nbformat_minor": 2
}
